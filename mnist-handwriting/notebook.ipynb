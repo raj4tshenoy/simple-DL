{
 "cells": [
  {
   "cell_type": "code",
   "execution_count": 1,
   "metadata": {},
   "outputs": [],
   "source": [
    "import tensorflow.keras as keras\n",
    "import numpy as np\n",
    "import matplotlib.pyplot as plt\n",
    "\n",
    "class EndTraining(keras.callbacks.Callback):\n",
    "    def on_epoch_end(self, epoch, logs = {}):\n",
    "        if (logs.get('loss') < 0.1):\n",
    "            print('\\n\\nRequired loss reached. Stopping training.')\n",
    "            self.model.stop_training = True\n",
    "\n",
    "#declare callback to stop training if loss is < 10%\n",
    "endtraining = EndTraining()"
   ]
  },
  {
   "cell_type": "code",
   "execution_count": 2,
   "metadata": {},
   "outputs": [
    {
     "name": "stdout",
     "output_type": "stream",
     "text": [
      "(60000, 28, 28)\n"
     ]
    }
   ],
   "source": [
    "#load data and split to train and test set\n",
    "dataset = keras.datasets.mnist\n",
    "(x_train,y_train),(x_test,y_test) = dataset.load_data()\n",
    "print(np.shape(x_train))\n",
    "\n",
    "x_train = x_train/255.0\n",
    "x_test = x_test/255.0\n"
   ]
  },
  {
   "cell_type": "code",
   "execution_count": 3,
   "metadata": {},
   "outputs": [],
   "source": [
    "#define model\n",
    "model = keras.models.Sequential([\n",
    "        keras.layers.Flatten(input_shape = (28,28)),\n",
    "        keras.layers.Dense(units = 512, activation = 'relu', input_shape = (60000,784)),\n",
    "        keras.layers.Dense(units = 10, activation = 'softmax', input_shape = (512,784))\n",
    "])\n",
    "\n",
    "#compile model\n",
    "model.compile(optimizer = 'sgd',\n",
    "              loss = 'sparse_categorical_crossentropy',\n",
    "              metrics = ['accuracy'])"
   ]
  },
  {
   "cell_type": "code",
   "execution_count": 4,
   "metadata": {},
   "outputs": [
    {
     "name": "stderr",
     "output_type": "stream",
     "text": [
      "WARNING: Logging before flag parsing goes to stderr.\n",
      "W0714 17:31:15.430204 4513195456 deprecation.py:323] From /Users/raj4tshenoy/anaconda3/lib/python3.7/site-packages/tensorflow/python/ops/math_grad.py:1250: add_dispatch_support.<locals>.wrapper (from tensorflow.python.ops.array_ops) is deprecated and will be removed in a future version.\n",
      "Instructions for updating:\n",
      "Use tf.where in 2.0, which has the same broadcast rule as np.where\n"
     ]
    },
    {
     "name": "stdout",
     "output_type": "stream",
     "text": [
      "Train on 60000 samples\n",
      "Epoch 1/100\n",
      "60000/60000 [==============================] - 4s 68us/sample - loss: 0.6067 - accuracy: 0.8503\n",
      "Epoch 2/100\n",
      "60000/60000 [==============================] - 4s 64us/sample - loss: 0.3210 - accuracy: 0.9113\n",
      "Epoch 3/100\n",
      "60000/60000 [==============================] - 4s 64us/sample - loss: 0.2723 - accuracy: 0.9240\n",
      "Epoch 4/100\n",
      "60000/60000 [==============================] - 4s 63us/sample - loss: 0.2418 - accuracy: 0.9327\n",
      "Epoch 5/100\n",
      "60000/60000 [==============================] - 4s 63us/sample - loss: 0.2191 - accuracy: 0.9393\n",
      "Epoch 6/100\n",
      "60000/60000 [==============================] - 4s 69us/sample - loss: 0.2003 - accuracy: 0.9439\n",
      "Epoch 7/100\n",
      "60000/60000 [==============================] - 5s 80us/sample - loss: 0.1843 - accuracy: 0.9488\n",
      "Epoch 8/100\n",
      "60000/60000 [==============================] - 4s 69us/sample - loss: 0.1706 - accuracy: 0.9528\n",
      "Epoch 9/100\n",
      "60000/60000 [==============================] - 4s 70us/sample - loss: 0.1593 - accuracy: 0.9557\n",
      "Epoch 10/100\n",
      "60000/60000 [==============================] - 4s 65us/sample - loss: 0.1490 - accuracy: 0.9590\n",
      "Epoch 11/100\n",
      "60000/60000 [==============================] - 4s 73us/sample - loss: 0.1400 - accuracy: 0.9614\n",
      "Epoch 12/100\n",
      "60000/60000 [==============================] - 4s 68us/sample - loss: 0.1321 - accuracy: 0.9639\n",
      "Epoch 13/100\n",
      "60000/60000 [==============================] - 4s 66us/sample - loss: 0.1250 - accuracy: 0.9662\n",
      "Epoch 14/100\n",
      "60000/60000 [==============================] - 4s 68us/sample - loss: 0.1184 - accuracy: 0.9680\n",
      "Epoch 15/100\n",
      "60000/60000 [==============================] - 4s 67us/sample - loss: 0.1127 - accuracy: 0.9696\n",
      "Epoch 16/100\n",
      "60000/60000 [==============================] - 4s 65us/sample - loss: 0.1074 - accuracy: 0.9714\n",
      "Epoch 17/100\n",
      "60000/60000 [==============================] - 4s 65us/sample - loss: 0.1029 - accuracy: 0.9727\n",
      "Epoch 18/100\n",
      "59296/60000 [============================>.] - ETA: 0s - loss: 0.0981 - accuracy: 0.9742\n",
      "\n",
      "Required loss reached. Stopping training.\n",
      "60000/60000 [==============================] - 4s 69us/sample - loss: 0.0983 - accuracy: 0.9742\n"
     ]
    },
    {
     "data": {
      "text/plain": [
       "<tensorflow.python.keras.callbacks.History at 0xb320336a0>"
      ]
     },
     "execution_count": 4,
     "metadata": {},
     "output_type": "execute_result"
    }
   ],
   "source": [
    "#train model\n",
    "model.fit(x_train, y_train, epochs = 100, callbacks = [endtraining])"
   ]
  },
  {
   "cell_type": "code",
   "execution_count": 5,
   "metadata": {},
   "outputs": [
    {
     "name": "stdout",
     "output_type": "stream",
     "text": [
      "10000/10000 [==============================] - 0s 40us/sample - loss: 0.1069 - accuracy: 0.9685\n",
      "Test Accuracy:  0.9685 Test Loss:  0.10685271342806518\n"
     ]
    }
   ],
   "source": [
    "#test model\n",
    "tl, ta = model.evaluate(x_test,y_test)\n",
    "print('Test Accuracy: ',ta,'Test Loss: ', tl)\n",
    "\n",
    "\n",
    "\n",
    "\n",
    "\n"
   ]
  },
  {
   "cell_type": "code",
   "execution_count": 7,
   "metadata": {},
   "outputs": [
    {
     "name": "stdout",
     "output_type": "stream",
     "text": [
      "\n",
      "Test the MNIST DATA:\n",
      "\n",
      "Enter a number b/w 1 and 10000: 1214\n",
      "\n",
      "Prediction is 1\n"
     ]
    },
    {
     "data": {
      "image/png": "[encoded data removed]",
      "text/plain": [
       "<Figure size 432x288 with 1 Axes>"
      ]
     },
     "metadata": {
      "needs_background": "light"
     },
     "output_type": "display_data"
    }
   ],
   "source": [
    "#Some extras\n",
    "print('\\nTest the MNIST DATA:\\n')\n",
    "n = int(input('Enter a number b/w 1 and 10000: '))\n",
    "n = n-1\n",
    "doraemon = model.predict(x_test)\n",
    "plt.imshow(x_test[n])\n",
    "print('\\nPrediction is', np.argmax(doraemon[n]))"
   ]
  },
  {
   "cell_type": "code",
   "execution_count": null,
   "metadata": {},
   "outputs": [],
   "source": []
  }
 ],
 "metadata": {
  "kernelspec": {
   "display_name": "Python 3",
   "language": "python",
   "name": "python3"
  },
  "language_info": {
   "codemirror_mode": {
    "name": "ipython",
    "version": 3
   },
   "file_extension": ".py",
   "mimetype": "text/x-python",
   "name": "python",
   "nbconvert_exporter": "python",
   "pygments_lexer": "ipython3",
   "version": "3.7.3"
  }
 },
 "nbformat": 4,
 "nbformat_minor": 2
}
